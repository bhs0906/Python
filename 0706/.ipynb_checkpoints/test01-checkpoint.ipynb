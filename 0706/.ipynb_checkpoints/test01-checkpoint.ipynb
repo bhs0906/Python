{
 "cells": [
  {
   "cell_type": "code",
   "execution_count": null,
   "id": "145c2bd0",
   "metadata": {},
   "outputs": [],
   "source": [
    "#변수의 내용을 나중에 작성하고자 하는 경우\n",
    "\n",
    "def add():\n",
    "    pass   # 내용을 결정하지 않았을경우 pass를 사용한다\n",
    "\n",
    "def sub():\n",
    "    pass"
   ]
  },
  {
   "cell_type": "code",
   "execution_count": null,
   "id": "8e8f7891",
   "metadata": {
    "scrolled": true
   },
   "outputs": [],
   "source": [
    "#함수의 실행 순서 - 함수선언이 아래에 있어 오류 발생\n",
    "\n",
    "result = get_area(3)\n",
    "print(\"반지름이 3인 원의 면적= \", result)\n",
    "\n",
    "def get_area(radius):\n",
    "    area = 3.14*radius**2\n",
    "    return area"
   ]
  },
  {
   "cell_type": "code",
   "execution_count": null,
   "id": "a4420c7e",
   "metadata": {},
   "outputs": [],
   "source": [
    "#함수의 실행 순서 - 먼저 호출하는 곳에 함수를 선언하고 \n",
    "#함수의 아래에서 실행함\n",
    "\n",
    "def main():\n",
    "    result = get_area(3)\n",
    "    print(\"반지름이 3인 원의 면적= \", result)\n",
    "\n",
    "def get_area(radius):\n",
    "    area = 3.14*radius**2\n",
    "    return area\n",
    "\n",
    "main()"
   ]
  },
  {
   "cell_type": "code",
   "execution_count": null,
   "id": "ce380d53",
   "metadata": {},
   "outputs": [],
   "source": [
    "#피자의 면적을 비교하는 프로그램\n",
    "\n",
    "def main():\n",
    "    print(\"20cm 피자 2개의 면적 : \", get_area(20)+get_area(20))\n",
    "    print(\"20cm 피자 2개의 면적 : \", get_area(30))\n",
    "    \n",
    "#원의 면적 계산\n",
    "def get_area(radius):\n",
    "    if radius > 0:\n",
    "        area = 3.14*radius**2\n",
    "    else:\n",
    "        area = 0\n",
    "    return area\n",
    "\n",
    "main()"
   ]
  },
  {
   "cell_type": "code",
   "execution_count": null,
   "id": "1260415d",
   "metadata": {},
   "outputs": [],
   "source": [
    "import turtle\n",
    "t = turtle.Turtle()\n",
    "t.shape(\"turtle\")\n",
    "\n",
    "def square(length):\n",
    "  t.down()\n",
    "  for i in range(4):\n",
    "    t.forward(length)\n",
    "    t.left(90)\n",
    "  t.up()\n",
    "\n",
    "square(100)\n",
    "t.forward(120)\n",
    "square(100)\n",
    "t.forward(120)\n",
    "square(100)\n",
    "\n",
    "turtle.mainloop()\n",
    "turtle.bye()"
   ]
  },
  {
   "cell_type": "code",
   "execution_count": null,
   "id": "1f59a6bd",
   "metadata": {},
   "outputs": [],
   "source": [
    "#나무 그리기\n",
    "import turtle\n",
    "\n",
    "def drawTree(branch, t):\n",
    "    if branch > 5:\n",
    "        t.forward(branch)\n",
    "        t.right(20)\n",
    "        drawTree(branch-15,t)\n",
    "        t.left(40)\n",
    "        drawTree(branch-15,t)\n",
    "        t.right(20)\n",
    "        t.backward(branch)\n",
    "\n",
    "def main():\n",
    "    t = turtle.Turtle()\n",
    "    window = turtle.Screen()\n",
    "    t.left(90)\n",
    "    t.up()\n",
    "    t.backward(200)\n",
    "    t.down()\n",
    "    t.color(\"green\")\n",
    "    drawTree(100,t)\n",
    "    window.exitonclick()\n",
    "\n",
    "main()"
   ]
  },
  {
   "cell_type": "code",
   "execution_count": null,
   "id": "240f6648",
   "metadata": {},
   "outputs": [],
   "source": [
    "# 나무 그리기\n",
    "import turtle\n",
    "\n",
    "def drawTree(branch, t):\n",
    "    if branch > 5:\n",
    "        t.forward(branch)\n",
    "        t.right(20)\n",
    "        drawTree(branch-15,t)\n",
    "        t.left(40)\n",
    "        drawTree(branch-15,t)\n",
    "        t.right(20)\n",
    "        t.backward(branch)\n",
    "\n",
    "def main():\n",
    "    t = turtle.Turtle()\n",
    "    window = turtle.Screen()\n",
    "    t.left(90)\n",
    "    t.up()\n",
    "    t.backward(200)\n",
    "    t.down()\n",
    "    t.color(\"green\")\n",
    "    drawTree(100,t)\n",
    "    window.exitonclick()\n",
    "    \n",
    "main()"
   ]
  }
 ],
 "metadata": {
  "kernelspec": {
   "display_name": "Python 3 (ipykernel)",
   "language": "python",
   "name": "python3"
  },
  "language_info": {
   "codemirror_mode": {
    "name": "ipython",
    "version": 3
   },
   "file_extension": ".py",
   "mimetype": "text/x-python",
   "name": "python",
   "nbconvert_exporter": "python",
   "pygments_lexer": "ipython3",
   "version": "3.9.12"
  }
 },
 "nbformat": 4,
 "nbformat_minor": 5
}
