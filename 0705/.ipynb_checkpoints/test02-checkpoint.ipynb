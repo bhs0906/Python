{
 "cells": [
  {
   "cell_type": "code",
   "execution_count": null,
   "id": "145c2bd0",
   "metadata": {},
   "outputs": [],
   "source": [
    "#함수 정의\n",
    "\n",
    "def get_area(radidus):\n",
    "    area = 3.14*radidus**2\n",
    "    return area\n",
    "\n",
    "result = get_area(3)\n",
    "print(\"반지름이 3인 원의 면적=\", result)"
   ]
  },
  {
   "cell_type": "code",
   "execution_count": null,
   "id": "94fec4f3",
   "metadata": {},
   "outputs": [],
   "source": [
    "#리턴값이 두개인 사용자 정의 함수\n",
    "\n",
    "def get_input():\n",
    "    return 2, 3, 5\n",
    "\n",
    "x, y, z= get_input()\n",
    "print(\"x = \", x)\n",
    "print(\"y = \", y)\n",
    "print(\"z = \", z)"
   ]
  },
  {
   "cell_type": "code",
   "execution_count": 1,
   "id": "b004f5f5",
   "metadata": {},
   "outputs": [
    {
     "name": "stdout",
     "output_type": "stream",
     "text": [
      "청담 물갈비 막국수,  치즈볶음밥\n"
     ]
    }
   ],
   "source": [
    "#디폴트 인수_1\n",
    "\n",
    "def great(name, msg):\n",
    "    print(\"청담 물갈비\", name + ', '+ msg)\n",
    "    \n",
    "great(\"막국수\", \" 치즈볶음밥\")"
   ]
  },
  {
   "cell_type": "code",
   "execution_count": 3,
   "id": "737f2c4f",
   "metadata": {},
   "outputs": [
    {
     "name": "stdout",
     "output_type": "stream",
     "text": [
      "청담 물갈비 막국수, 멸치 다시다\n",
      "청담 물갈비 철수야, 자니?\n"
     ]
    }
   ],
   "source": [
    "#디폴트 인수_2\n",
    "\n",
    "def great(name, msg=\"멸치 다시다\"):\n",
    "    print(\"청담 물갈비\", name + ', '+ msg)\n",
    "    \n",
    "great(\"막국수\")\n",
    "great(\"철수야\", \"자니?\")"
   ]
  }
 ],
 "metadata": {
  "kernelspec": {
   "display_name": "Python 3 (ipykernel)",
   "language": "python",
   "name": "python3"
  },
  "language_info": {
   "codemirror_mode": {
    "name": "ipython",
    "version": 3
   },
   "file_extension": ".py",
   "mimetype": "text/x-python",
   "name": "python",
   "nbconvert_exporter": "python",
   "pygments_lexer": "ipython3",
   "version": "3.9.12"
  }
 },
 "nbformat": 4,
 "nbformat_minor": 5
}
