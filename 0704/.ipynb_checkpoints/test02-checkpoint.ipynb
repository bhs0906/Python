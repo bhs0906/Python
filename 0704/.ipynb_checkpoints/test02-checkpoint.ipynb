{
 "cells": [
  {
   "cell_type": "code",
   "execution_count": null,
   "id": "145c2bd0",
   "metadata": {},
   "outputs": [],
   "source": [
    "#while문을 사용한 구구단\n",
    "\n",
    "dan = int(input(\"원하는 단을 입력하세요: \"))\n",
    "i = 1\n",
    "\n",
    "while i <= 9 :\n",
    "    print(\"%d * %d = %d\" %(dan, i, dan*i))\n",
    "    i = i+1"
   ]
  },
  {
   "cell_type": "code",
   "execution_count": null,
   "id": "19a6df0d",
   "metadata": {},
   "outputs": [
    {
     "name": "stdout",
     "output_type": "stream",
     "text": [
      "1부터 100 사이의 숫자를 맞추세요\n",
      "숫자를 입력하세요60\n",
      "너무 낮음!\n",
      "숫자를 입력하세요70\n",
      "너무 낮음!\n",
      "숫자를 입력하세요65\n",
      "너무 낮음!\n",
      "숫자를 입력하세요63\n",
      "너무 낮음!\n",
      "숫자를 입력하세요62\n",
      "너무 낮음!\n",
      "숫자를 입력하세요61\n",
      "너무 낮음!\n",
      "숫자를 입력하세요60\n",
      "너무 낮음!\n"
     ]
    }
   ],
   "source": [
    "# 숫자 맞추기 게임\n",
    "\n",
    "import random\n",
    "\n",
    "tries = 0\n",
    "guess = 0\n",
    "answer = random.randint(1, 100)\n",
    "\n",
    "print(\"1부터 100 사이의 숫자를 맞추세요\")\n",
    "\n",
    "while guess != answer:\n",
    "    guess = int(input(\"숫자를 입력하세요\"))\n",
    "    tries = tries + 1\n",
    "    if guess < answer :\n",
    "        print(\"너무 낮음!\")\n",
    "    elif guess > answer:\n",
    "        print(\"너무 높음!\")\n",
    "        \n",
    "if guess == answer:\n",
    "    print(\"축하합니다. 시도횟수= , tries\")\n",
    "else:\n",
    "    print(\"정답은\", answer)"
   ]
  }
 ],
 "metadata": {
  "kernelspec": {
   "display_name": "Python 3 (ipykernel)",
   "language": "python",
   "name": "python3"
  },
  "language_info": {
   "codemirror_mode": {
    "name": "ipython",
    "version": 3
   },
   "file_extension": ".py",
   "mimetype": "text/x-python",
   "name": "python",
   "nbconvert_exporter": "python",
   "pygments_lexer": "ipython3",
   "version": "3.9.12"
  }
 },
 "nbformat": 4,
 "nbformat_minor": 5
}
