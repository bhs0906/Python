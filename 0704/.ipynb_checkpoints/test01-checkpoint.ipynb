{
 "cells": [
  {
   "cell_type": "code",
   "execution_count": null,
   "id": "145c2bd0",
   "metadata": {
    "scrolled": true
   },
   "outputs": [],
   "source": [
    "#동전 던지기 게임\n",
    "\n",
    "import random\n",
    "\n",
    "print(\"동전 던지기 게임을 시작합니다.\")\n",
    "coin = random.randrange(2)\n",
    "if coin == 0 :\n",
    "    print(\"앞면입니다.\")\n",
    "else :\n",
    "    print(\"뒷면입니다.\")\n",
    "print(\"게임이 종료되었습니다.\")"
   ]
  },
  {
   "cell_type": "code",
   "execution_count": null,
   "id": "8dfd0aa6",
   "metadata": {},
   "outputs": [],
   "source": [
    "#배송비 프로그램\n",
    "\n",
    "country = input(\"배송지 (현재는 korea와 us만 가능): \")\n",
    "price = int(input(\"상품의 가격: \"))\n",
    "\n",
    "#배송비를 결정한다.\n",
    "if country == \"korea\":\n",
    "    if price >= 20000:\n",
    "        shipping_cost = 0\n",
    "    else:\n",
    "        shipping_cost= 3000\n",
    "else:\n",
    "    if price >= 100000:\n",
    "        shipping_cost = 0\n",
    "    else:\n",
    "        shipping_cost= 8000\n",
    "        \n",
    "#배송비를 출력\n",
    "print(\"배송비 = \",shipping_cost)"
   ]
  },
  {
   "cell_type": "code",
   "execution_count": null,
   "id": "1b260370",
   "metadata": {},
   "outputs": [],
   "source": [
    "#리히터 규모를 받아서 피해정도를 출력\n",
    "\n",
    "scale = float(input(\"리히터 규모를 입력 : \"))\n",
    "\n",
    "if scale >= 8.0:\n",
    "    print(\"대부분의 구조물이 파괴됩니다.\")\n",
    "elif scale >= 7.0:\n",
    "    print(\"지표면에 균열이 발생합니다.\")\n",
    "elif scale >= 4.0:\n",
    "    print(\"빈약한 건물에 큰 피해가 있습니다.\")\n",
    "elif scale >= 2.0:\n",
    "    print(\"물건들이 흔들리거나 떨어집니다.\")\n",
    "else:\n",
    "    print(\"지진계에 의해서만 탐지 가능합니다.\")"
   ]
  },
  {
   "cell_type": "code",
   "execution_count": null,
   "id": "99a56033",
   "metadata": {},
   "outputs": [],
   "source": [
    "#파이썬의 for문 특징 - in -> range\n",
    "\n",
    "for i in range(5):\n",
    "    print(\"나 파이썬이야!!!\")"
   ]
  },
  {
   "cell_type": "code",
   "execution_count": null,
   "id": "114932db",
   "metadata": {},
   "outputs": [],
   "source": [
    "# 파이썬은 배열이 존재하지 않고 리스트를 사용\n",
    "\n",
    "List = []\n",
    "List.append(1)\n",
    "List.append(\"하나\")\n",
    "List.append(6)\n",
    "List.append(7.4)\n",
    "\n",
    "print(List)\n",
    "\n",
    "#리스트 파일의 특징\n",
    "# 왼쪽에서 오른쪽으로 : 0부터 증가\n",
    "# 오른쪽에서 왼쪽으로 : -1부터 감소"
   ]
  },
  {
   "cell_type": "code",
   "execution_count": null,
   "id": "0f15d6d0",
   "metadata": {},
   "outputs": [],
   "source": [
    "print(List[3])\n",
    "print(List[-1])"
   ]
  },
  {
   "cell_type": "code",
   "execution_count": null,
   "id": "a7de8f7f",
   "metadata": {
    "scrolled": true
   },
   "outputs": [],
   "source": [
    "for i in range(4):\n",
    "    print(List[i])"
   ]
  },
  {
   "cell_type": "code",
   "execution_count": null,
   "id": "f9b17b86",
   "metadata": {},
   "outputs": [],
   "source": [
    "# 리스트 모두 출력\n",
    "for i in List:\n",
    "    print(i)"
   ]
  },
  {
   "cell_type": "code",
   "execution_count": null,
   "id": "ce60eb3c",
   "metadata": {},
   "outputs": [],
   "source": [
    "#숫자를 역으로 출력\n",
    "\n",
    "for i in range(10, 0, -1):\n",
    "    print(i, end=\" \")"
   ]
  },
  {
   "cell_type": "code",
   "execution_count": null,
   "id": "c64dbfa8",
   "metadata": {
    "scrolled": true
   },
   "outputs": [],
   "source": [
    "# 구구셈\n",
    "\n",
    "for i in range(2, 10):\n",
    "    print(\"9 *\", i, \"=\", 9*i)"
   ]
  },
  {
   "cell_type": "code",
   "execution_count": null,
   "id": "700e4897",
   "metadata": {},
   "outputs": [],
   "source": [
    "#팩토리얼 계산 - 자기가 자기 자신을 부른다\n",
    "\n",
    "n = int(input(\"정수를 입력 :\"))\n",
    "fact = 1\n",
    "for i in range(1, n+1):\n",
    "    fact = fact * i\n",
    "print(n,\"!(는)은\", fact,\"이다\")"
   ]
  },
  {
   "cell_type": "code",
   "execution_count": null,
   "id": "2666ff3d",
   "metadata": {
    "scrolled": true
   },
   "outputs": [],
   "source": [
    "#n-각형 그리기\n",
    "\n",
    "import turtle\n",
    "t= turtle.Turtle()\n",
    "t.shape(\"turtle\")\n",
    "\n",
    "s=turtle.textinput(\"\",\"몇각형을 원하시나요?: \")\n",
    "n=int(s)\n",
    "\n",
    "for i in range(n):\n",
    "    t.forward(100)\n",
    "    t.left(360/n)\n",
    "    \n",
    "turtle.mainloop()\n",
    "turtle.bye()"
   ]
  },
  {
   "cell_type": "markdown",
   "id": "9453b44b",
   "metadata": {},
   "source": [
    "$$f(x)=x^{2}-x-1$$"
   ]
  },
  {
   "cell_type": "code",
   "execution_count": null,
   "id": "5e58639e",
   "metadata": {},
   "outputs": [],
   "source": [
    "#방성식의 해 계산\n",
    "\n",
    "COUNT = 100\n",
    "START = 1.0\n",
    "END = 2.0\n",
    "\n",
    "for i in range(COUNT):\n",
    "    x = START + i*((END-START)/COUNT)\n",
    "    f = (x**2 - x -1)\n",
    "    if abs(f-0.0) < 0.01:\n",
    "        print(\"방정식의 해는 \", x)"
   ]
  },
  {
   "cell_type": "code",
   "execution_count": null,
   "id": "26cec461",
   "metadata": {},
   "outputs": [],
   "source": [
    "#while 사용 예제\n",
    "\n",
    "#제어 변수를 선언\n",
    "i = 1\n",
    "sum = 0\n",
    "\n",
    "# i 값이 10보다 작거나 같으면 반복\n",
    "while i <= 10 :\n",
    "    sum = sum + i\n",
    "    i = i + 1\n",
    "    \n",
    "print(\"합계: \", sum)"
   ]
  }
 ],
 "metadata": {
  "kernelspec": {
   "display_name": "Python 3 (ipykernel)",
   "language": "python",
   "name": "python3"
  },
  "language_info": {
   "codemirror_mode": {
    "name": "ipython",
    "version": 3
   },
   "file_extension": ".py",
   "mimetype": "text/x-python",
   "name": "python",
   "nbconvert_exporter": "python",
   "pygments_lexer": "ipython3",
   "version": "3.9.12"
  }
 },
 "nbformat": 4,
 "nbformat_minor": 5
}
