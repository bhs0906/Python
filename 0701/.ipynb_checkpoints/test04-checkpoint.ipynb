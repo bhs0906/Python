{
 "cells": [
  {
   "cell_type": "code",
   "execution_count": null,
   "id": "145c2bd0",
   "metadata": {},
   "outputs": [],
   "source": [
    "#배송비 계산 프로그램 - 스위치문\n",
    "\n",
    "price = int(input(\"상품의 가격 : \"))\n",
    "\n",
    "# 배송비를 결정한다.\n",
    "if price >20000 :\n",
    "    shopping_cost = 0\n",
    "else :\n",
    "    shopping_cost = 3000\n",
    "        \n",
    "#배송비를 출력\n",
    "print(\"배송비 = \", shopping_cost)"
   ]
  },
  {
   "cell_type": "code",
   "execution_count": null,
   "id": "730415a6",
   "metadata": {},
   "outputs": [],
   "source": [
    "#관계 연산자 - 참,거짓\n",
    "\n",
    "s1 = \"안녕하세요\"\n",
    "s2 = \"hello\"\n",
    "print(s1 < s2)"
   ]
  },
  {
   "cell_type": "code",
   "execution_count": null,
   "id": "ff57be51",
   "metadata": {},
   "outputs": [],
   "source": [
    "# 실수와 실수 비교\n",
    "\n",
    "from math import sqrt     #math로부터 sqrt만 가져와라\n",
    "\n",
    "n = sqrt(3.0)\n",
    "if abs(n*n == 3.0) < 0.00001:\n",
    "    print(\"sqrt(3.0) * sqrt(3.0)은 3.0과 같다\")\n",
    "else:\n",
    "    print(\"sqrt(3.0) * sqrt(3.0)은 3.0과 같지 않다\")"
   ]
  },
  {
   "cell_type": "code",
   "execution_count": null,
   "id": "06ae8b6d",
   "metadata": {},
   "outputs": [],
   "source": [
    "# 산술 문제 출제 프로그램\n",
    "# f 문자열은 { }로 감싸서 문자열 안에 넣을 수 있음.\n",
    "import random\n",
    "\n",
    "x = random.randint(1, 100)\n",
    "y = random.randint(1, 100)\n",
    "\n",
    "answer = int(input(f\"{x}+{y}=\"))\n",
    "\n",
    "# Boolean 변수에 결과를 저장하고 출력\n",
    "flag = (answer == (x+y))\n",
    "print(flag)"
   ]
  },
  {
   "cell_type": "code",
   "execution_count": 5,
   "id": "c1b00bfb",
   "metadata": {},
   "outputs": [
    {
     "name": "stdout",
     "output_type": "stream",
     "text": [
      "x값 입력: 65\n",
      "y값 입력: 60\n",
      "절대값:  65\n",
      "최대값:  65\n",
      "최소값:  60\n"
     ]
    }
   ],
   "source": [
    "# 조건 연산자 - 삼항연산자\n",
    "\n",
    "#x = int(input(\"x값 입력\"))\n",
    "#y = int(input(\"y값 입력\"))\n",
    "\n",
    "x = eval(input(\"x값 입력: \"))\n",
    "y = eval(input(\"y값 입력: \"))\n",
    "\n",
    "absolute_value = (x if x> 0 else -x)\n",
    "max_value = (x if x > y else y) #최대값\n",
    "min_value = (x if x < y else y) #최소값\n",
    "\n",
    "print(\"절대값: \", absolute_value)\n",
    "print(\"최대값: \", max_value)\n",
    "print(\"최소값: \", min_value)"
   ]
  },
  {
   "cell_type": "code",
   "execution_count": 6,
   "id": "c84fcccd",
   "metadata": {},
   "outputs": [
    {
     "name": "stdout",
     "output_type": "stream",
     "text": [
      "온도를 입력하세요130\n",
      "물의 상태는 기체입니다\n"
     ]
    }
   ],
   "source": [
    "# 온도에 따른 물의 상태\n",
    "\n",
    "temp = float(input(\"온도를 입력하세요\"))\n",
    "\n",
    "if temp <= 0 :\n",
    "    print(\"물의 상태는 얼음입니다.\")\n",
    "elif temp > 0 and temp < 100 :\n",
    "    print(\"물의 상태는 액체입니다.\")\n",
    "else :\n",
    "    print(\"물의 상태는 기체입니다\")"
   ]
  }
 ],
 "metadata": {
  "kernelspec": {
   "display_name": "Python 3 (ipykernel)",
   "language": "python",
   "name": "python3"
  },
  "language_info": {
   "codemirror_mode": {
    "name": "ipython",
    "version": 3
   },
   "file_extension": ".py",
   "mimetype": "text/x-python",
   "name": "python",
   "nbconvert_exporter": "python",
   "pygments_lexer": "ipython3",
   "version": "3.9.12"
  }
 },
 "nbformat": 4,
 "nbformat_minor": 5
}
