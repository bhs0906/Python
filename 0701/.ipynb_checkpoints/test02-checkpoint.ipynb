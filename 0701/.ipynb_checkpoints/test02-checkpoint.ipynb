{
 "cells": [
  {
   "cell_type": "markdown",
   "id": "9a0337da",
   "metadata": {},
   "source": [
    "### 입력과 출력"
   ]
  },
  {
   "cell_type": "code",
   "execution_count": null,
   "id": "145c2bd0",
   "metadata": {
    "scrolled": true
   },
   "outputs": [],
   "source": [
    "name = input(\"이름을 입력하세요: \")\n",
    "print(name,\"씨, 안녕하세요?\")\n",
    "print(\"파이썬에 오신 것을 환영합니다.\")"
   ]
  },
  {
   "cell_type": "code",
   "execution_count": null,
   "id": "702edbbb",
   "metadata": {},
   "outputs": [],
   "source": [
    "x = input(\"첫 번째 정수를 입력하세요: \")\n",
    "y = input(\"두 번째 정수를 입력하세요: \")\n",
    "sum = x + y\n",
    "print(\"합은 \",sum)"
   ]
  },
  {
   "cell_type": "code",
   "execution_count": null,
   "id": "14071ad9",
   "metadata": {
    "scrolled": true
   },
   "outputs": [],
   "source": [
    "s1 = input(\"첫 번째 정수를 입력하세요: \")\n",
    "x = int(s1)\n",
    "s2 = input(\"두 번째 정수를 입력하세요: \")\n",
    "y = int(s2)\n",
    "sum = x + y\n",
    "print(\"합은 \",sum)"
   ]
  },
  {
   "cell_type": "code",
   "execution_count": null,
   "id": "67af4827",
   "metadata": {},
   "outputs": [],
   "source": [
    "# 부동 소수점 사용\n",
    "# 평수를 구하는 방법\n",
    "# eval은 데이터에 따라 실수 또는 정수로 변환\n",
    "\n",
    "SQMETER_PER_P = 3.3\n",
    "\n",
    "area = eval(input(\"면접(제곱미터):\"))\n",
    "py = area / SQMETER_PER_P\n",
    "print(py, \"평\")"
   ]
  },
  {
   "cell_type": "code",
   "execution_count": null,
   "id": "ad5b0726",
   "metadata": {},
   "outputs": [],
   "source": [
    "# 형식화된 출력\n",
    "\n",
    "SQMETER_PER_P = 3.3\n",
    "\n",
    "area = eval(input(\"면접(제곱미터):\"))\n",
    "py = area / SQMETER_PER_P\n",
    "print(\"%.2f\" % py, \"평\")"
   ]
  },
  {
   "cell_type": "code",
   "execution_count": null,
   "id": "ffc76f26",
   "metadata": {},
   "outputs": [],
   "source": [
    "# 대화형 프로그램 \n",
    "\n",
    "print(\"안녕하세요.\")\n",
    "name = input(\"이름이 어떻게 되시나요?\")\n",
    "print(\"만나서 반갑습니다.\" + name + \"씨\")\n",
    "print(\"이름의 길이는 다음과 같군요. : \",len(name))\n",
    "\n",
    "age = int(input(\"나이가 어떻게 되나요?\"))\n",
    "print(\"내년이면\" + str(age+1) + \"이 되시는군요.\")"
   ]
  },
  {
   "cell_type": "code",
   "execution_count": null,
   "id": "b9a24454",
   "metadata": {},
   "outputs": [],
   "source": [
    "# BMI 계산하기\n",
    "# BMI < 18.50 저체중\n",
    "# BMI 18.50  - 24.99 표준\n",
    "# BMI 24.99 - 29.99 과체중\n",
    "# BMI > 비만\n",
    "\n",
    "weight = float(input(\"몸무게 kg 단위를 입력하세요 :\"))\n",
    "height = float(input(\"키를 미터 단위로 입력하세요 :\"))\n",
    "\n",
    "bmi = (weight / (height**2))\n",
    "print(\"당신의 BMI=\", bmi)"
   ]
  },
  {
   "cell_type": "code",
   "execution_count": 3,
   "id": "142e095e",
   "metadata": {},
   "outputs": [
    {
     "name": "stdout",
     "output_type": "stream",
     "text": [
      "반지름을 입력하세요. : 5\n",
      "구의 부피=    523.60\n"
     ]
    }
   ],
   "source": [
    "# 구의 부피 계산\n",
    "\n",
    "r = float(input(\"반지름을 입력하세요. : \"))\n",
    "\n",
    "# 구의 부피 공식\n",
    "\n",
    "volume = (4.0/3.0) * 3.141592 * r**3\n",
    "\n",
    "#구의 부피를 화면에 출력\n",
    "\n",
    "print(\"구의 부피=%10.2f\" % volume)"
   ]
  }
 ],
 "metadata": {
  "kernelspec": {
   "display_name": "Python 3 (ipykernel)",
   "language": "python",
   "name": "python3"
  },
  "language_info": {
   "codemirror_mode": {
    "name": "ipython",
    "version": 3
   },
   "file_extension": ".py",
   "mimetype": "text/x-python",
   "name": "python",
   "nbconvert_exporter": "python",
   "pygments_lexer": "ipython3",
   "version": "3.9.12"
  }
 },
 "nbformat": 4,
 "nbformat_minor": 5
}
