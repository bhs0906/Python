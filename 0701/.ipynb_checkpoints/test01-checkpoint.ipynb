{
 "cells": [
  {
   "cell_type": "code",
   "execution_count": 5,
   "id": "145c2bd0",
   "metadata": {},
   "outputs": [
    {
     "name": "stdout",
     "output_type": "stream",
     "text": [
      "원리금 합계 = 1628.894626777442\n"
     ]
    }
   ],
   "source": [
    "#원리금 합계 구하기\n",
    "\n",
    "a = 1000              #원금\n",
    "r = 0.05              #이자율\n",
    "n = 10                #기간\n",
    "result = a* (1+r)**n ##원리금 합계            # ** =지수\n",
    "\n",
    "print(\"원리금 합계 =\",result)"
   ]
  },
  {
   "cell_type": "code",
   "execution_count": 7,
   "id": "d8c4a5c7",
   "metadata": {},
   "outputs": [
    {
     "name": "stdout",
     "output_type": "stream",
     "text": [
      "925.88\n"
     ]
    }
   ],
   "source": [
    "#소수점 자리\n",
    "\n",
    "price = 12345\n",
    "tax = price * 0.075\n",
    "tax = round(tax,2)       ##round = 반올림\n",
    "print(tax)"
   ]
  },
  {
   "cell_type": "code",
   "execution_count": 9,
   "id": "337bdcb5",
   "metadata": {},
   "outputs": [
    {
     "name": "stdout",
     "output_type": "stream",
     "text": [
      "hello\n",
      "하아잇\n"
     ]
    }
   ],
   "source": [
    "# 문자열\n",
    "\n",
    "msg = \"hello\"\n",
    "print(msg)\n",
    "\n",
    "msg = '하아잇'\n",
    "print(msg)"
   ]
  },
  {
   "cell_type": "code",
   "execution_count": 10,
   "id": "00380d6f",
   "metadata": {},
   "outputs": [
    {
     "name": "stdout",
     "output_type": "stream",
     "text": [
      "\n",
      "안녕하세요\n",
      "지금\n",
      "파이썬을\n",
      "배우고있습니다.\n",
      "\n"
     ]
    }
   ],
   "source": [
    "#세 따옴표 문자열 - 여러줄 표시가 가능하다\n",
    "\n",
    "a = \"\"\"\n",
    "안녕하세요\n",
    "지금\n",
    "파이썬을\n",
    "배우고있습니다.\n",
    "\"\"\"\n",
    "\n",
    "print(a)"
   ]
  },
  {
   "cell_type": "code",
   "execution_count": 12,
   "id": "41a26581",
   "metadata": {
    "scrolled": true
   },
   "outputs": [
    {
     "name": "stdout",
     "output_type": "stream",
     "text": [
      "\n",
      "1. 시작\n",
      "2. 수정\n",
      "3. 삭제\n",
      "4. 종료\n",
      "==> 번호를 선택하세요를레히 :\n",
      "\n",
      "\n"
     ]
    }
   ],
   "source": [
    "menu = \"\"\"\n",
    "1. 시작\n",
    "2. 수정\n",
    "3. 삭제\n",
    "4. 종료\n",
    "==> 번호를 선택하세요를레히 :\n",
    "\n",
    "\"\"\"\n",
    "\n",
    "print(menu)"
   ]
  },
  {
   "cell_type": "code",
   "execution_count": 13,
   "id": "6581cf9d",
   "metadata": {},
   "outputs": [
    {
     "data": {
      "text/plain": [
       "'helloworld'"
      ]
     },
     "execution_count": 13,
     "metadata": {},
     "output_type": "execute_result"
    }
   ],
   "source": [
    "\"hello\" + \"world\""
   ]
  },
  {
   "cell_type": "code",
   "execution_count": 17,
   "id": "309c458e",
   "metadata": {},
   "outputs": [
    {
     "name": "stdout",
     "output_type": "stream",
     "text": [
      "------------------------------\n"
     ]
    }
   ],
   "source": [
    "Lines = \"-\" * 30\n",
    "print(Lines)"
   ]
  },
  {
   "cell_type": "code",
   "execution_count": 18,
   "id": "9cab19b6",
   "metadata": {},
   "outputs": [
    {
     "name": "stdout",
     "output_type": "stream",
     "text": [
      "Terminator 3\n"
     ]
    }
   ],
   "source": [
    "#숫자를 문자로 변환\n",
    "\n",
    "movie = \"Terminator \" + str(3)\n",
    "print(movie)"
   ]
  },
  {
   "cell_type": "code",
   "execution_count": 20,
   "id": "d82cf43c",
   "metadata": {
    "scrolled": true
   },
   "outputs": [
    {
     "name": "stdout",
     "output_type": "stream",
     "text": [
      "말 한마디로\n",
      " 천냥 빚을\n",
      "갚는다\n"
     ]
    }
   ],
   "source": [
    "print(\"말 한마디로\\n 천냥 빚을\\n갚는다\")"
   ]
  },
  {
   "cell_type": "code",
   "execution_count": 25,
   "id": "c51e073d",
   "metadata": {},
   "outputs": [
    {
     "name": "stdout",
     "output_type": "stream",
     "text": [
      "K과P과L\n"
     ]
    }
   ],
   "source": [
    "#문자열은 배열로 처리한다 - 한칸이라도 들여쓰기하면 오류발생\n",
    "\n",
    "a = \"Kim\"\n",
    "b = \"Park\"\n",
    "c = \"Lee\"\n",
    "\n",
    "acronym = a[0] + \"과\" + b[0] + \"과\" + c[0]\n",
    "print(acronym)"
   ]
  },
  {
   "cell_type": "code",
   "execution_count": 26,
   "id": "864c416c",
   "metadata": {},
   "outputs": [
    {
     "name": "stdout",
     "output_type": "stream",
     "text": [
      "harry parter\n",
      "HARRY PARTER\n"
     ]
    }
   ],
   "source": [
    "#파이썬은 모든 변수를 오브젝트로 선언한다\n",
    "\n",
    "name = \"Harry Parter\"\n",
    "lower_name = name.lower()\n",
    "print(lower_name)\n",
    "\n",
    "upper_name = name.upper()\n",
    "print(upper_name)"
   ]
  }
 ],
 "metadata": {
  "kernelspec": {
   "display_name": "Python 3 (ipykernel)",
   "language": "python",
   "name": "python3"
  },
  "language_info": {
   "codemirror_mode": {
    "name": "ipython",
    "version": 3
   },
   "file_extension": ".py",
   "mimetype": "text/x-python",
   "name": "python",
   "nbconvert_exporter": "python",
   "pygments_lexer": "ipython3",
   "version": "3.9.12"
  }
 },
 "nbformat": 4,
 "nbformat_minor": 5
}
