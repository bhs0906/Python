{
 "cells": [
  {
   "cell_type": "code",
   "execution_count": 1,
   "id": "3e5fb322",
   "metadata": {},
   "outputs": [
    {
     "name": "stdout",
     "output_type": "stream",
     "text": [
      "합은 300\n"
     ]
    }
   ],
   "source": [
    "x = 100\n",
    "y = 200\n",
    "sum = x + y\n",
    "print(\"합은\", sum)"
   ]
  },
  {
   "cell_type": "code",
   "execution_count": 2,
   "id": "e697f36b",
   "metadata": {},
   "outputs": [
    {
     "name": "stdout",
     "output_type": "stream",
     "text": [
      "반지름 10 인 원의 면적 =  314.0\n"
     ]
    }
   ],
   "source": [
    "# 원의 면적 계산 프로그램\n",
    "radius = 10    #radius(반지름)는 10\n",
    "\n",
    "# 면적을 계산\n",
    "area = 3.14 * radius * radius\n",
    "\n",
    "#결과를 출력\n",
    "print(\"반지름\", radius, \"인 원의 면적 = \", area)"
   ]
  },
  {
   "cell_type": "code",
   "execution_count": 3,
   "id": "e8e692f0",
   "metadata": {},
   "outputs": [
    {
     "data": {
      "text/plain": [
       "['False',\n",
       " 'None',\n",
       " 'True',\n",
       " '__peg_parser__',\n",
       " 'and',\n",
       " 'as',\n",
       " 'assert',\n",
       " 'async',\n",
       " 'await',\n",
       " 'break',\n",
       " 'class',\n",
       " 'continue',\n",
       " 'def',\n",
       " 'del',\n",
       " 'elif',\n",
       " 'else',\n",
       " 'except',\n",
       " 'finally',\n",
       " 'for',\n",
       " 'from',\n",
       " 'global',\n",
       " 'if',\n",
       " 'import',\n",
       " 'in',\n",
       " 'is',\n",
       " 'lambda',\n",
       " 'nonlocal',\n",
       " 'not',\n",
       " 'or',\n",
       " 'pass',\n",
       " 'raise',\n",
       " 'return',\n",
       " 'try',\n",
       " 'while',\n",
       " 'with',\n",
       " 'yield']"
      ]
     },
     "execution_count": 3,
     "metadata": {},
     "output_type": "execute_result"
    }
   ],
   "source": [
    "# 예약어 확인\n",
    "import keyword\n",
    "keyword.kwlist"
   ]
  },
  {
   "cell_type": "code",
   "execution_count": 4,
   "id": "5bd062fd",
   "metadata": {
    "scrolled": true
   },
   "outputs": [
    {
     "data": {
      "text/plain": [
       "int"
      ]
     },
     "execution_count": 4,
     "metadata": {},
     "output_type": "execute_result"
    }
   ],
   "source": [
    "type(1234)"
   ]
  },
  {
   "cell_type": "code",
   "execution_count": 5,
   "id": "1b0052d5",
   "metadata": {},
   "outputs": [
    {
     "name": "stdout",
     "output_type": "stream",
     "text": [
      "<class 'float'>\n",
      "<class 'str'>\n"
     ]
    }
   ],
   "source": [
    "print(type(12.30))\n",
    "print(type(\"hello\"))"
   ]
  },
  {
   "cell_type": "code",
   "execution_count": 6,
   "id": "ee328ed6",
   "metadata": {
    "scrolled": true
   },
   "outputs": [
    {
     "data": {
      "text/plain": [
       "int"
      ]
     },
     "execution_count": 6,
     "metadata": {},
     "output_type": "execute_result"
    }
   ],
   "source": [
    "a=5\n",
    "type(a)"
   ]
  },
  {
   "cell_type": "code",
   "execution_count": 7,
   "id": "8bb332b8",
   "metadata": {},
   "outputs": [
    {
     "data": {
      "text/plain": [
       "float"
      ]
     },
     "execution_count": 7,
     "metadata": {},
     "output_type": "execute_result"
    }
   ],
   "source": [
    "a=5.8\n",
    "type(a)"
   ]
  },
  {
   "cell_type": "code",
   "execution_count": 8,
   "id": "706409f5",
   "metadata": {},
   "outputs": [
    {
     "data": {
      "text/plain": [
       "str"
      ]
     },
     "execution_count": 8,
     "metadata": {},
     "output_type": "execute_result"
    }
   ],
   "source": [
    "a=\"5.8\"\n",
    "type(a)"
   ]
  },
  {
   "cell_type": "code",
   "execution_count": 9,
   "id": "abc4bb18",
   "metadata": {},
   "outputs": [
    {
     "name": "stdout",
     "output_type": "stream",
     "text": [
      "섭씨온도: 37.77777777777778\n"
     ]
    }
   ],
   "source": [
    "#화씨 온도를 받아서 섭씨 온도로 변환\n",
    "\n",
    "ftemp = 100 # 화씨 온도 100\n",
    "\n",
    "ctemp = (ftemp-32.0) * 5.0/9.0\n",
    "print(\"섭씨온도:\",ctemp)"
   ]
  },
  {
   "cell_type": "code",
   "execution_count": 12,
   "id": "0d0037ab",
   "metadata": {},
   "outputs": [
    {
     "name": "stdout",
     "output_type": "stream",
     "text": [
      "반지름= 5 높이= 10 원의 면적은= 785.0\n"
     ]
    }
   ],
   "source": [
    "#원기둥의 부피 계산\n",
    "#원주율을 나타내는 상수를 정의\n",
    "PI = 3.14\n",
    "\n",
    "# 변수를 정의\n",
    "radius = 5\n",
    "height = 10\n",
    "\n",
    "# 부피를 계산\n",
    "volume = PI * radius * radius * height\n",
    "\n",
    "# 결과를 출력\n",
    "print(\"반지름=\", radius, \"높이=\", height, \"원의 면적은=\", volume)"
   ]
  },
  {
   "cell_type": "code",
   "execution_count": 14,
   "id": "ed8a161b",
   "metadata": {},
   "outputs": [
    {
     "name": "stdout",
     "output_type": "stream",
     "text": [
      "나눗셈의 몫= 1\n",
      "나눗셈의 나머지= 3\n",
      "나눗셈의 몫= 1.7857142857142856\n",
      "나눗셈의 나머지= 3.3\n"
     ]
    }
   ],
   "source": [
    "# 나눗셈의 몫과 나머지\n",
    "p = 7\n",
    "q = 4\n",
    "print(\"나눗셈의 몫=\", p // q)  #정수의 나눗셈 = // , 실수의 나눗셈 = /\n",
    "print(\"나눗셈의 나머지=\", p % q)\n",
    "\n",
    "p = 7.5\n",
    "q = 4.2\n",
    "print(\"나눗셈의 몫=\", p / q)  #정수의 나눗셈 = // , 실수의 나눗셈 = /\n",
    "print(\"나눗셈의 나머지=\", p % q)"
   ]
  }
 ],
 "metadata": {
  "kernelspec": {
   "display_name": "Python 3 (ipykernel)",
   "language": "python",
   "name": "python3"
  },
  "language_info": {
   "codemirror_mode": {
    "name": "ipython",
    "version": 3
   },
   "file_extension": ".py",
   "mimetype": "text/x-python",
   "name": "python",
   "nbconvert_exporter": "python",
   "pygments_lexer": "ipython3",
   "version": "3.9.12"
  }
 },
 "nbformat": 4,
 "nbformat_minor": 5
}
